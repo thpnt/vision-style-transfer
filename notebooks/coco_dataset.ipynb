{
 "cells": [
  {
   "cell_type": "code",
   "execution_count": 4,
   "metadata": {},
   "outputs": [],
   "source": [
    "import os\n",
    "import json\n",
    "import numpy as np\n",
    "\n",
    "project_root = os.path.dirname(os.getcwd())\n",
    "\n",
    "# Init dict for metadata\n",
    "metadata = {\n",
    "    \"info\" : {\n",
    "        \"year\" : 2017,\n",
    "        \"version\" : \"test2017\",\n",
    "        \"description\" : \"20 000 randomly selected images from the COCO dataset\"\n",
    "    },\n",
    "    \"images\" : []\n",
    "}\n",
    "\n",
    "\n",
    "# Retrieve all images\n",
    "path = f\"{project_root}/data/coco/coco2017/test2017\""
   ]
  },
  {
   "cell_type": "code",
   "execution_count": 7,
   "metadata": {},
   "outputs": [],
   "source": [
    "# Retrieve all images\n",
    "images = os.listdir(path)\n",
    "\n",
    "# Randomly select 20 000 images\n",
    "np.random.shuffle(images)\n",
    "images = images[:20000]"
   ]
  },
  {
   "cell_type": "code",
   "execution_count": 10,
   "metadata": {},
   "outputs": [],
   "source": [
    "# Add images to metadata\n",
    "for image in images:\n",
    "    metadata[\"images\"].append({\n",
    "        \"id\" : image.split(\".\")[0],\n",
    "        \"file_name\" : image\n",
    "    })"
   ]
  },
  {
   "cell_type": "code",
   "execution_count": null,
   "metadata": {},
   "outputs": [],
   "source": [
    "# Save metadata as json file\n",
    "with open(f\"{project_root}/data/coco/coco2017/metadata/metadata.json\", \"w\") as file:\n",
    "    json.dump(metadata, file)"
   ]
  },
  {
   "cell_type": "code",
   "execution_count": 13,
   "metadata": {},
   "outputs": [],
   "source": [
    "# Delet all images not in metadata\n",
    "for image in os.listdir(path):\n",
    "    if image not in images:\n",
    "        os.remove(f\"{path}/{image}\")"
   ]
  },
  {
   "cell_type": "code",
   "execution_count": 17,
   "metadata": {},
   "outputs": [
    {
     "name": "stdout",
     "output_type": "stream",
     "text": [
      "Done\n"
     ]
    }
   ],
   "source": [
    "# Rename image in order to have a continuous id\n",
    "# Create a dict to map old id to new id\n",
    "id_map = {}\n",
    "for i, image in enumerate(images):\n",
    "    id_map[image.split(\".\")[0]] = f\"{i:0>6}\"\n",
    "\n",
    "# Rename images\n",
    "for image in images:\n",
    "    os.rename(f\"{path}/{image}\", f\"{path}/{id_map[image.split('.')[0]]}.jpg\")\n",
    "\n",
    "# Save id map as json file\n",
    "with open(f\"{project_root}/data/coco/coco2017/metadata/id_map.json\", \"w\") as file:\n",
    "    json.dump(id_map, file)\n",
    "    \n",
    "# Change metadata to reflect new ids\n",
    "for image in metadata[\"images\"]:\n",
    "    image[\"id\"] = id_map[image[\"id\"]]\n",
    "    \n",
    "# Save metadata as json file\n",
    "with open(f\"{project_root}/data/coco/coco2017/metadata/metadata.json\", \"w\") as file:\n",
    "    json.dump(metadata, file)"
   ]
  }
 ],
 "metadata": {
  "kernelspec": {
   "display_name": "env",
   "language": "python",
   "name": "python3"
  },
  "language_info": {
   "codemirror_mode": {
    "name": "ipython",
    "version": 3
   },
   "file_extension": ".py",
   "mimetype": "text/x-python",
   "name": "python",
   "nbconvert_exporter": "python",
   "pygments_lexer": "ipython3",
   "version": "3.10.0"
  }
 },
 "nbformat": 4,
 "nbformat_minor": 2
}
